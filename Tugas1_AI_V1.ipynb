{
  "nbformat": 4,
  "nbformat_minor": 0,
  "metadata": {
    "colab": {
      "provenance": [],
      "authorship_tag": "ABX9TyNYxjzFLJ1Dq++GXfnIm2jI",
      "include_colab_link": true
    },
    "kernelspec": {
      "name": "python3",
      "display_name": "Python 3"
    },
    "language_info": {
      "name": "python"
    }
  },
  "cells": [
    {
      "cell_type": "markdown",
      "metadata": {
        "id": "view-in-github",
        "colab_type": "text"
      },
      "source": [
        "<a href=\"https://colab.research.google.com/github/Xv1ous/DAA/blob/main/Tugas1_AI_V1.ipynb\" target=\"_parent\"><img src=\"https://colab.research.google.com/assets/colab-badge.svg\" alt=\"Open In Colab\"/></a>"
      ]
    },
    {
      "cell_type": "markdown",
      "source": [
        "Nama : Teo natan jovanus\n",
        "NIM  : 20220801065"
      ],
      "metadata": {
        "id": "TaOKWsnHFO7G"
      }
    },
    {
      "cell_type": "code",
      "execution_count": 1,
      "metadata": {
        "id": "KE92YffIrBlc",
        "colab": {
          "base_uri": "https://localhost:8080/"
        },
        "outputId": "7d16f443-55e6-4ddb-f260-49dff78534ec"
      },
      "outputs": [
        {
          "output_type": "stream",
          "name": "stdout",
          "text": [
            "   Horsepower  Price\n",
            "0         100  20000\n",
            "1         120  25000\n",
            "2         140  30000\n",
            "3         160  35000\n",
            "4         180  40000\n",
            "5         200  45000\n",
            "Coefficient of determination: 1.00\n",
            "Predicted price: 32500.00\n"
          ]
        },
        {
          "output_type": "stream",
          "name": "stderr",
          "text": [
            "/usr/local/lib/python3.10/dist-packages/sklearn/base.py:493: UserWarning: X does not have valid feature names, but LinearRegression was fitted with feature names\n",
            "  warnings.warn(\n"
          ]
        }
      ],
      "source": [
        "import pandas as pd\n",
        "from sklearn.linear_model import LinearRegression\n",
        "from sklearn.model_selection import train_test_split\n",
        "\n",
        "# Membuat dataset dummy\n",
        "data = {'Horsepower': [100, 120, 140, 160, 180, 200],\n",
        "        'Price': [20000, 25000, 30000, 35000, 40000, 45000]}\n",
        "df = pd.DataFrame(data)\n",
        "\n",
        "print(df)\n",
        "\n",
        "# Membuat model machine learning\n",
        "X = df[['Horsepower']]\n",
        "y = df['Price']\n",
        "\n",
        "X_train, X_test, y_train, y_test = train_test_split(X, y, test_size=0.2, random_state=42)\n",
        "\n",
        "model = LinearRegression()\n",
        "model.fit(X_train, y_train)\n",
        "\n",
        "print(\"Coefficient of determination: %.2f\" % model.score(X_test, y_test))\n",
        "\n",
        "# Memprediksi harga mobil\n",
        "horsepower = 150\n",
        "price = model.predict([[horsepower]])\n",
        "print(\"Predicted price: %.2f\" % price[0])"
      ]
    }
  ]
}