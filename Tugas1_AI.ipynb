{
  "nbformat": 4,
  "nbformat_minor": 0,
  "metadata": {
    "colab": {
      "provenance": [],
      "authorship_tag": "ABX9TyM+lYfGPyy9/fRR2viqd3HQ",
      "include_colab_link": true
    },
    "kernelspec": {
      "name": "python3",
      "display_name": "Python 3"
    },
    "language_info": {
      "name": "python"
    }
  },
  "cells": [
    {
      "cell_type": "markdown",
      "metadata": {
        "id": "view-in-github",
        "colab_type": "text"
      },
      "source": [
        "<a href=\"https://colab.research.google.com/github/Xv1ous/DAA/blob/main/Tugas1_AI.ipynb\" target=\"_parent\"><img src=\"https://colab.research.google.com/assets/colab-badge.svg\" alt=\"Open In Colab\"/></a>"
      ]
    },
    {
      "cell_type": "code",
      "execution_count": null,
      "metadata": {
        "id": "KE92YffIrBlc"
      },
      "outputs": [],
      "source": [
        "import pandas as pd\n",
        "from sklearn.linear_model import LinearRegression\n",
        "from sklearn.model_selection import train_test_split\n",
        "\n",
        "# Membuat dataset dummy\n",
        "data = {'Horsepower': [100, 120, 140, 160, 180, 200],\n",
        "        'Price': [20000, 25000, 30000, 35000, 40000, 45000]}\n",
        "df = pd.DataFrame(data)\n",
        "\n",
        "print(df)\n",
        "\n",
        "# Membuat model machine learning\n",
        "X = df[['Horsepower']]\n",
        "y = df['Price']\n",
        "\n",
        "X_train, X_test, y_train, y_test = train_test_split(X, y, test_size=0.2, random_state=42)\n",
        "\n",
        "model = LinearRegression()\n",
        "model.fit(X_train, y_train)\n",
        "\n",
        "print(\"Coefficient of determination: %.2f\" % model.score(X_test, y_test))\n",
        "\n",
        "# Memprediksi harga mobil\n",
        "horsepower = 150\n",
        "price = model.predict([[horsepower]])\n",
        "print(\"Predicted price: %.2f\" % price[0])"
      ]
    }
  ]
}